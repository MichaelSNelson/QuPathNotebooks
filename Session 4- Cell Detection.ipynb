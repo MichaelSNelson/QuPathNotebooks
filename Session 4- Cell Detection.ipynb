{
 "cells": [
  {
   "cell_type": "markdown",
   "id": "8990bed4",
   "metadata": {},
   "source": [
    "# Session 3 - Cell Detection\n",
    "*Goal: Learn 2 methods for detecting cells in multiplex images, including the pros and cons of each*"
   ]
  },
  {
   "cell_type": "markdown",
   "id": "9a094f87",
   "metadata": {},
   "source": [
    "## Method 1- QuPath's Built-In Cell Detection\n",
    "1. Select the whole tissue annotation\n",
    "2. `Analyze > Cell detection > Cell detection`\n",
    "<img src=\"Images/CellDetection_internal.PNG\">\n",
    "\n",
    "Start with these settings:\n",
    "\n",
    "<img src=\"Images/CellDetectionSettings.PNG\">\n",
    "\n",
    "  - *Oh No! My Tumor Annotation Disappeared!* When you detect cells, it deletes the 'child' objects in the hierarchy. Don't worry, we will get it back!\n",
    "\n",
    "3. Spend a few minutes adjusting the settings and rerunning the cell detection. Some settings will look better for the tumor cells, some will look better for the inflammatory cells.  \n",
    "\n",
    "4. Click on the tissue annotation in the Annotation tab. In the measurements table, it tells you the total number of cells. You can calculate cell density as $NumCells / Area$\n",
    "\n",
    "\n"
   ]
  }
 ],
 "metadata": {
  "kernelspec": {
   "display_name": "Python 3 (ipykernel)",
   "language": "python",
   "name": "python3"
  },
  "language_info": {
   "codemirror_mode": {
    "name": "ipython",
    "version": 3
   },
   "file_extension": ".py",
   "mimetype": "text/x-python",
   "name": "python",
   "nbconvert_exporter": "python",
   "pygments_lexer": "ipython3",
   "version": "3.9.7"
  }
 },
 "nbformat": 4,
 "nbformat_minor": 5
}
