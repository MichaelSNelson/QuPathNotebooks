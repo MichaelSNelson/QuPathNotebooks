{
 "cells": [
  {
   "cell_type": "markdown",
   "id": "2c25956e",
   "metadata": {},
   "source": [
    "# Session 7- More Difficult Classifiers\n",
    "*Goal: Learn how to classify cells in more difficult cases requiring new measurements and feature selection*"
   ]
  },
  {
   "cell_type": "markdown",
   "id": "199e240c",
   "metadata": {},
   "source": [
    "### 1. Preparation \n",
    "1. Load your project from yesterday with the CD45 classifier. If you did not finish the classifier, you can download and open \"Proj1 - Session 7\" from the Backup Projects folder. This has all of the cells, measurements, annotations, and classifiers we made yesterday. \n",
    "\n",
    "2. Immediately save a copy of the project. We will delete some cells and the classifier training annotations and want to keep the option of recalling them later\n",
    "\n",
    "3. In each image, clear the training data. \n",
    "  1. Delete the CD45 and Ignore* training annotations, by selecting the first, holding shift, selecting the last, then click <kbd>Delete</kbd>. \n",
    "  2. Delete the CD45- cells, which have no class (called \"None\" in the class list.) In the class list in the Annotation tab, right click on None > Select objects by classification > <kbd>Delete</kbd>\n",
    "\n",
    "<img src=\"Images/DeleteTraining.gif\">\n",
    "\n",
    "4. The tumor annotation will be useful later, but for now it is visually distracting. To hide it without deleting it, select the Tumor class in the Annotation tab and press <kbd>Space Bar</kbd>. "
   ]
  },
  {
   "cell_type": "markdown",
   "id": "791a265b",
   "metadata": {},
   "source": [
    "## 2. Training a classifier for CD4 and CD8 T cells\n",
    "We now have a project with the full tissue region, the tumor region, and the CD45-bright leukocytes segmented. From here we are going to separate the CD45s into subsets. \n",
    "\n",
    "\n",
    "\n"
   ]
  }
 ],
 "metadata": {
  "kernelspec": {
   "display_name": "Python 3 (ipykernel)",
   "language": "python",
   "name": "python3"
  },
  "language_info": {
   "codemirror_mode": {
    "name": "ipython",
    "version": 3
   },
   "file_extension": ".py",
   "mimetype": "text/x-python",
   "name": "python",
   "nbconvert_exporter": "python",
   "pygments_lexer": "ipython3",
   "version": "3.9.7"
  }
 },
 "nbformat": 4,
 "nbformat_minor": 5
}
