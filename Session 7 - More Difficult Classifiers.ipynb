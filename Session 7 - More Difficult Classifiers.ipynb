{
 "cells": [
  {
   "cell_type": "markdown",
   "id": "9922e45c",
   "metadata": {},
   "source": [
    "# Session 7- More Difficult Classifiers\n",
    "*Goal: Learn how to classify cells in more difficult cases requiring new measurements and feature selection*"
   ]
  },
  {
   "cell_type": "markdown",
   "id": "74747a2b",
   "metadata": {},
   "source": [
    "### 1. Preparation \n",
    "1. Load your project from yesterday with the CD45 classifier. If you did not finish the classifier, you can download and open \"Proj1 - Session 7\" from the Backup Projects folder. This has all of the cells, measurements, annotations, and classifiers we made yesterday. \n",
    "\n",
    "2. Immediately save a copy of the project. We "
   ]
  }
 ],
 "metadata": {
  "kernelspec": {
   "display_name": "Python 3 (ipykernel)",
   "language": "python",
   "name": "python3"
  },
  "language_info": {
   "codemirror_mode": {
    "name": "ipython",
    "version": 3
   },
   "file_extension": ".py",
   "mimetype": "text/x-python",
   "name": "python",
   "nbconvert_exporter": "python",
   "pygments_lexer": "ipython3",
   "version": "3.9.7"
  }
 },
 "nbformat": 4,
 "nbformat_minor": 5
}
