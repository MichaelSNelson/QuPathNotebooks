{
 "cells": [
  {
   "cell_type": "markdown",
   "id": "e3995a89",
   "metadata": {},
   "source": [
    "# Session 5- Batch Analysis\n",
    "*Goal - learn how to use the QuPath-created workflow to apply your analysis pipeline to multiple images*"
   ]
  },
  {
   "attachments": {},
   "cell_type": "markdown",
   "id": "f61eda3b",
   "metadata": {},
   "source": [
    "## 1. Generating the Raw Workflow  Script\n",
    "1. Start with LungImg2 open (the version with InstanSeg cell detections)\n",
    "2. Open the Workflow tab. It will have a long list of commands that you have tried. \n",
    "\n",
    "<img src=\"Images/WorkflowTAb.PNG\"> <br>\n",
    "\n",
    "**Don't worry, it's not scary!**\n",
    "3. At the bottom of the screen, click <kbd>Create script</kbd>\n",
    "\n",
    "\n",
    "\n",
    "\n",
    "\n"
   ]
  }
 ],
 "metadata": {
  "kernelspec": {
   "display_name": "Python 3 (ipykernel)",
   "language": "python",
   "name": "python3"
  },
  "language_info": {
   "codemirror_mode": {
    "name": "ipython",
    "version": 3
   },
   "file_extension": ".py",
   "mimetype": "text/x-python",
   "name": "python",
   "nbconvert_exporter": "python",
   "pygments_lexer": "ipython3",
   "version": "3.9.7"
  }
 },
 "nbformat": 4,
 "nbformat_minor": 5
}
